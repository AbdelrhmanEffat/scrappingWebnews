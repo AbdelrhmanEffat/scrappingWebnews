{
 "cells": [
  {
   "cell_type": "code",
   "execution_count": 6,
   "metadata": {},
   "outputs": [],
   "source": [
    "import requests\n",
    "from bs4 import BeautifulSoup\n",
    "import numpy as np\n",
    "import pandas as pd\n",
    "import re"
   ]
  },
  {
   "cell_type": "code",
   "execution_count": 10,
   "metadata": {},
   "outputs": [],
   "source": [
    "# url definition\n",
    "url = \"https://news.sky.com/\"\n",
    "\n",
    "# Request\n",
    "r1 = requests.get(url)\n",
    "r1.status_code\n",
    "\n",
    "# We'll save in coverpage the cover page content\n",
    "coverpage = r1.content\n",
    "\n",
    "# Soup creation\n",
    "soup1 = BeautifulSoup(coverpage, 'lxml')\n",
    "\n",
    "# News identification\n",
    "coverpage_news = soup1.find_all('div', class_=\"sdc-site-tiles__item sdc-site-tile sdc-site-tile--has-link\")\n",
    "len(coverpage_news)\n",
    "\n",
    "# Empty list for img, titles and content \n",
    "lst = []\n",
    "\n",
    "for n in np.arange(0, len(coverpage_news)):\n",
    "    # Dictionary for saving in k and v \n",
    "    d = {}\n",
    "\n",
    "    # Getting img url\n",
    "    img = coverpage_news[n].img['src']\n",
    "    d['Img-url'] = img\n",
    "\n",
    "    # Extracting h3 tag\n",
    "    tag = coverpage_news[n].find('h3', class_=\"sdc-site-tile__headline\")\n",
    "\n",
    "    # Getting title\n",
    "    title = tag.find('a').find('span').get_text()\n",
    "    d['Title'] = title\n",
    "\n",
    "    # Getting the link of the article\n",
    "    link = \"https://news.sky.com\" + tag.find('a', class_='sdc-site-tile__headline-link')['href']\n",
    "\n",
    "    # Reading the content (it is divided in paragraphs)\n",
    "    try:\n",
    "        article = requests.get(link)\n",
    "    except requests.exceptions.ConnectionError:\n",
    "        requests.status_code = \"Connection refused\"\n",
    "    article_content = article.content\n",
    "    soup_article = BeautifulSoup(article_content, 'lxml')\n",
    "    body = soup_article.find_all('div', class_='sdc-article-body sdc-article-body--story sdc-article-body--lead')\n",
    "    try:\n",
    "        x = body[0].find_all('p')\n",
    "    except IndexError:\n",
    "        continue\n",
    "\n",
    "    # Unifying the paragraphs\n",
    "    list_paragraphs = []\n",
    "    for p in np.arange(0, len(x)):\n",
    "        paragraph = x[p].get_text()\n",
    "        list_paragraphs.append(paragraph)\n",
    "        final_article = \" \".join(list_paragraphs)\n",
    "\n",
    "    # Removing special characters\n",
    "    final_article = re.sub(\"\\\\xa0\", \"\", final_article)\n",
    "\n",
    "    d['Content'] = final_article\n",
    "\n",
    "    lst.append(d)"
   ]
  },
  {
   "cell_type": "code",
   "execution_count": 15,
   "metadata": {},
   "outputs": [
    {
     "data": {
      "text/plain": [
       "{'Img-url': 'https://e3.365dm.com/20/06/768x432/skynews-air-ambulances-scene_5018774.jpg?20200620213348',\n",
       " 'Title': 'Witness: I saw man walk up to group of friends and start stabbing people in neck',\n",
       " 'Content': 'A witness has told of how he saw a man walk up to a group of about 10 people and stab some of them in the neck and under the arms in a busy Reading park. Lawrence Wort said the attacker then started running towards him but could not catch him and the perpetrator tried to target another group. Three people are confirmed to have died following the multiple stabbings around 7pm on Saturday in Forbury Gardens in the centre of the town. Mr Wort said he had been around 10 metres from the scene and the attack looked \"completely random\". He said: \"So the park was pretty full, a lot of people sat around drinking with friends when one lone person walked through, suddenly shouted some unintelligible words and went around a large group of around 10, trying to stab them. \"He stabbed three of them, severely in the neck, and under the arms, and then turned and started running towards me, and we turned and started running. \"When he realised that he couldn\\'t catch us, he tried to stab another group sat down, he got one person in the back of the neck and then when he realised everyone was starting to run, he ran out the park.\" A man, reported to be a Libyan national living in the UK, has been arrested. Meanwhile, a second witness said she heard sirens and then saw emergency services carrying out CPR on at least three people following the stabbings. The woman said she was \"terrified\" by what she viewed in Forbury Gardens and was feeling \"very shaken\" back home. The unnamed witness told the Daily Mirror: \"My husband and I were walking back from Tesco after a grocery run, we always walk there. \"We take a break halfway at Forbury Gardens. I sat with my bags, drank water. I heard some children scream and cry, and assumed they were cranky. \"I was pointing to a mound and told my husband it would be perfect for a picnic spot. That\\'s when I heard sirens. \"We saw emergency services perform CPR. We rushed outside the gardens and continued walking on to Friar Street.\" Freelance journalist Claire Gould, who lives near the scene, said she saw two air ambulances land on the nearby Kings Meadow. She described hearing lots of sirens and said surrounding roads and a retail park had been cordoned off by officers. She told Sky News: \"Forbury Gardens is the main park in the centre of Reading. It\\'s two minutes from the station. \"It\\'s the area where people tend to meet friends, especially during lockdown as it\\'s a large green space. On a sunny day like today, there were lots of people picnicking and socialising.\" A woman from Reading said the stabbings had left her \"heartbroken\" and she said she did not want the incident to define the Berkshire town. Mica Blackwell tweeted: \"I\\'ve lived in Reading all my life & I\\'ve never felt unsafe at Forbury Gardens. \"Tonight\\'s incident has left me heartbroken for everyone. Don\\'t let this define our town. We will get through this stronger. Stay safe everyone.\"'}"
      ]
     },
     "execution_count": 15,
     "metadata": {},
     "output_type": "execute_result"
    }
   ],
   "source": [
    "lst[0]"
   ]
  },
  {
   "cell_type": "code",
   "execution_count": null,
   "metadata": {},
   "outputs": [],
   "source": []
  }
 ],
 "metadata": {
  "kernelspec": {
   "display_name": "Python 3",
   "language": "python",
   "name": "python3"
  },
  "language_info": {
   "codemirror_mode": {
    "name": "ipython",
    "version": 3
   },
   "file_extension": ".py",
   "mimetype": "text/x-python",
   "name": "python",
   "nbconvert_exporter": "python",
   "pygments_lexer": "ipython3",
   "version": "3.8.3"
  }
 },
 "nbformat": 4,
 "nbformat_minor": 4
}
